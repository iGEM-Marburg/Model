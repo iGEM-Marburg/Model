{
 "cells": [
  {
   "cell_type": "markdown",
   "metadata": {},
   "source": [
    "# Example Setup of ChloDB   \n",
    "For more information please visit https://2021.igem.org/Team:Marburg/Software   "
   ]
  },
  {
   "cell_type": "code",
   "execution_count": 1,
   "metadata": {},
   "outputs": [],
   "source": [
    "from mongoengine import *"
   ]
  },
  {
   "cell_type": "markdown",
   "metadata": {},
   "source": [
    "## Setup Collections"
   ]
  },
  {
   "cell_type": "code",
   "execution_count": 2,
   "metadata": {},
   "outputs": [],
   "source": [
    "class Genomes(Document):\n",
    "    accession = StringField(unique=True)\n",
    "    source = StringField()\n",
    "    organism = StringField()\n",
    "    date = DateTimeField()\n",
    "    genome_size = IntField()\n",
    "    gc_content = FloatField()\n",
    "    features = ListField(ReferenceField('Features'))\n",
    "    taxonomy = ListField(StringField())\n",
    "    data_file_division = StringField()\n",
    "    sequence_version = IntField()\n",
    "    keywords = ListField(StringField())\n",
    "    references = ListField(ReferenceField('References'))\n",
    "    comment = StringField()\n",
    "    topology = StringField()\n",
    "    description = StringField()\n",
    "    molecule_type = StringField()"
   ]
  },
  {
   "cell_type": "code",
   "execution_count": 3,
   "metadata": {},
   "outputs": [],
   "source": [
    "class Features(Document):\n",
    "    genome_id = ReferenceField('Genomes')\n",
    "    feat_type = StringField()\n",
    "    location = StringField()\n",
    "    location_operator = StringField()\n",
    "    location_binary = BinaryField()\n",
    "    strand = IntField()\n",
    "    sequence = StringField()\n",
    "    qualifiers = DictField()"
   ]
  },
  {
   "cell_type": "code",
   "execution_count": 4,
   "metadata": {},
   "outputs": [],
   "source": [
    "class References(Document):\n",
    "    title = StringField()\n",
    "    authors = StringField()\n",
    "    journal = StringField()\n",
    "    consrtm = StringField()\n",
    "    comment = StringField()  \n",
    "    medline_id = StringField()\n",
    "    pubmed_id = StringField()"
   ]
  },
  {
   "cell_type": "markdown",
   "metadata": {},
   "source": [
    "## Connection to the Database"
   ]
  },
  {
   "cell_type": "code",
   "execution_count": null,
   "metadata": {},
   "outputs": [],
   "source": [
    "connect('ChloroplastDB')"
   ]
  },
  {
   "cell_type": "markdown",
   "metadata": {},
   "source": [
    "## Query the Database"
   ]
  },
  {
   "cell_type": "code",
   "execution_count": null,
   "metadata": {},
   "outputs": [],
   "source": []
  },
  {
   "cell_type": "code",
   "execution_count": null,
   "metadata": {},
   "outputs": [],
   "source": []
  }
 ],
 "metadata": {
  "kernelspec": {
   "display_name": "Python 3",
   "language": "python",
   "name": "python3"
  },
  "language_info": {
   "codemirror_mode": {
    "name": "ipython",
    "version": 3
   },
   "file_extension": ".py",
   "mimetype": "text/x-python",
   "name": "python",
   "nbconvert_exporter": "python",
   "pygments_lexer": "ipython3",
   "version": "3.7.0"
  },
  "toc": {
   "base_numbering": 1,
   "nav_menu": {},
   "number_sections": true,
   "sideBar": true,
   "skip_h1_title": false,
   "title_cell": "Table of Contents",
   "title_sidebar": "Contents",
   "toc_cell": false,
   "toc_position": {},
   "toc_section_display": true,
   "toc_window_display": false
  }
 },
 "nbformat": 4,
 "nbformat_minor": 2
}
